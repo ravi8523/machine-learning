{
 "cells": [
  {
   "cell_type": "code",
   "execution_count": 2,
   "id": "064fb384",
   "metadata": {},
   "outputs": [],
   "source": [
    "import numpy as np\n",
    "import pandas as pd \n",
    "import matplotlib.pyplot as plt\n",
    "import seaborn as sns"
   ]
  },
  {
   "cell_type": "code",
   "execution_count": 5,
   "id": "83759ccd",
   "metadata": {},
   "outputs": [],
   "source": [
    "file_name=\"D:\\\\datasets\\\\archive (1)\\\\world_population_by_country_2023.csv\""
   ]
  },
  {
   "cell_type": "code",
   "execution_count": 6,
   "id": "2880b812",
   "metadata": {},
   "outputs": [],
   "source": [
    "population_ds=pd.read_csv(file_name)"
   ]
  },
  {
   "cell_type": "code",
   "execution_count": 8,
   "id": "ed21f8e3",
   "metadata": {},
   "outputs": [
    {
     "data": {
      "text/html": [
       "<div>\n",
       "<style scoped>\n",
       "    .dataframe tbody tr th:only-of-type {\n",
       "        vertical-align: middle;\n",
       "    }\n",
       "\n",
       "    .dataframe tbody tr th {\n",
       "        vertical-align: top;\n",
       "    }\n",
       "\n",
       "    .dataframe thead th {\n",
       "        text-align: right;\n",
       "    }\n",
       "</style>\n",
       "<table border=\"1\" class=\"dataframe\">\n",
       "  <thead>\n",
       "    <tr style=\"text-align: right;\">\n",
       "      <th></th>\n",
       "      <th>country</th>\n",
       "      <th>population</th>\n",
       "      <th>yearly_change</th>\n",
       "      <th>net_change</th>\n",
       "      <th>density</th>\n",
       "      <th>land_area</th>\n",
       "      <th>net_migrants</th>\n",
       "      <th>fertility_rate</th>\n",
       "      <th>median_age</th>\n",
       "      <th>population_urban</th>\n",
       "      <th>world_share</th>\n",
       "    </tr>\n",
       "  </thead>\n",
       "  <tbody>\n",
       "    <tr>\n",
       "      <th>0</th>\n",
       "      <td>Afghanistan</td>\n",
       "      <td>42239854</td>\n",
       "      <td>2.70</td>\n",
       "      <td>1111083</td>\n",
       "      <td>65</td>\n",
       "      <td>652860</td>\n",
       "      <td>-65846</td>\n",
       "      <td>4.4</td>\n",
       "      <td>17.0</td>\n",
       "      <td>26.0</td>\n",
       "      <td>0.53</td>\n",
       "    </tr>\n",
       "    <tr>\n",
       "      <th>1</th>\n",
       "      <td>Albania</td>\n",
       "      <td>2832439</td>\n",
       "      <td>-0.35</td>\n",
       "      <td>-9882</td>\n",
       "      <td>103</td>\n",
       "      <td>27400</td>\n",
       "      <td>-8000</td>\n",
       "      <td>1.4</td>\n",
       "      <td>38.0</td>\n",
       "      <td>67.0</td>\n",
       "      <td>0.04</td>\n",
       "    </tr>\n",
       "    <tr>\n",
       "      <th>2</th>\n",
       "      <td>Algeria</td>\n",
       "      <td>45606480</td>\n",
       "      <td>1.57</td>\n",
       "      <td>703255</td>\n",
       "      <td>19</td>\n",
       "      <td>2381740</td>\n",
       "      <td>-9999</td>\n",
       "      <td>2.8</td>\n",
       "      <td>28.0</td>\n",
       "      <td>75.0</td>\n",
       "      <td>0.57</td>\n",
       "    </tr>\n",
       "    <tr>\n",
       "      <th>3</th>\n",
       "      <td>American Samoa</td>\n",
       "      <td>43914</td>\n",
       "      <td>-0.81</td>\n",
       "      <td>-359</td>\n",
       "      <td>220</td>\n",
       "      <td>200</td>\n",
       "      <td>-790</td>\n",
       "      <td>2.2</td>\n",
       "      <td>29.0</td>\n",
       "      <td>NaN</td>\n",
       "      <td>0.00</td>\n",
       "    </tr>\n",
       "    <tr>\n",
       "      <th>4</th>\n",
       "      <td>Andorra</td>\n",
       "      <td>80088</td>\n",
       "      <td>0.33</td>\n",
       "      <td>264</td>\n",
       "      <td>170</td>\n",
       "      <td>470</td>\n",
       "      <td>200</td>\n",
       "      <td>1.1</td>\n",
       "      <td>43.0</td>\n",
       "      <td>85.0</td>\n",
       "      <td>0.00</td>\n",
       "    </tr>\n",
       "    <tr>\n",
       "      <th>...</th>\n",
       "      <td>...</td>\n",
       "      <td>...</td>\n",
       "      <td>...</td>\n",
       "      <td>...</td>\n",
       "      <td>...</td>\n",
       "      <td>...</td>\n",
       "      <td>...</td>\n",
       "      <td>...</td>\n",
       "      <td>...</td>\n",
       "      <td>...</td>\n",
       "      <td>...</td>\n",
       "    </tr>\n",
       "    <tr>\n",
       "      <th>229</th>\n",
       "      <td>Wallis &amp; Futuna</td>\n",
       "      <td>11502</td>\n",
       "      <td>-0.60</td>\n",
       "      <td>-70</td>\n",
       "      <td>82</td>\n",
       "      <td>140</td>\n",
       "      <td>-119</td>\n",
       "      <td>1.9</td>\n",
       "      <td>37.0</td>\n",
       "      <td>0.0</td>\n",
       "      <td>0.00</td>\n",
       "    </tr>\n",
       "    <tr>\n",
       "      <th>230</th>\n",
       "      <td>Western Sahara</td>\n",
       "      <td>587259</td>\n",
       "      <td>1.96</td>\n",
       "      <td>11273</td>\n",
       "      <td>2</td>\n",
       "      <td>266000</td>\n",
       "      <td>5600</td>\n",
       "      <td>2.2</td>\n",
       "      <td>32.0</td>\n",
       "      <td>95.0</td>\n",
       "      <td>0.01</td>\n",
       "    </tr>\n",
       "    <tr>\n",
       "      <th>231</th>\n",
       "      <td>Yemen</td>\n",
       "      <td>34449825</td>\n",
       "      <td>2.24</td>\n",
       "      <td>753211</td>\n",
       "      <td>65</td>\n",
       "      <td>527970</td>\n",
       "      <td>-29914</td>\n",
       "      <td>3.6</td>\n",
       "      <td>19.0</td>\n",
       "      <td>37.0</td>\n",
       "      <td>0.43</td>\n",
       "    </tr>\n",
       "    <tr>\n",
       "      <th>232</th>\n",
       "      <td>Zambia</td>\n",
       "      <td>20569737</td>\n",
       "      <td>2.76</td>\n",
       "      <td>552062</td>\n",
       "      <td>28</td>\n",
       "      <td>743390</td>\n",
       "      <td>-5000</td>\n",
       "      <td>4.2</td>\n",
       "      <td>17.0</td>\n",
       "      <td>46.0</td>\n",
       "      <td>0.26</td>\n",
       "    </tr>\n",
       "    <tr>\n",
       "      <th>233</th>\n",
       "      <td>Zimbabwe</td>\n",
       "      <td>16665409</td>\n",
       "      <td>2.11</td>\n",
       "      <td>344872</td>\n",
       "      <td>43</td>\n",
       "      <td>386850</td>\n",
       "      <td>-9999</td>\n",
       "      <td>3.4</td>\n",
       "      <td>18.0</td>\n",
       "      <td>37.0</td>\n",
       "      <td>0.21</td>\n",
       "    </tr>\n",
       "  </tbody>\n",
       "</table>\n",
       "<p>234 rows × 11 columns</p>\n",
       "</div>"
      ],
      "text/plain": [
       "             country  population  yearly_change  net_change  density  \\\n",
       "0        Afghanistan    42239854           2.70     1111083       65   \n",
       "1            Albania     2832439          -0.35       -9882      103   \n",
       "2            Algeria    45606480           1.57      703255       19   \n",
       "3     American Samoa       43914          -0.81        -359      220   \n",
       "4            Andorra       80088           0.33         264      170   \n",
       "..               ...         ...            ...         ...      ...   \n",
       "229  Wallis & Futuna       11502          -0.60         -70       82   \n",
       "230   Western Sahara      587259           1.96       11273        2   \n",
       "231            Yemen    34449825           2.24      753211       65   \n",
       "232           Zambia    20569737           2.76      552062       28   \n",
       "233         Zimbabwe    16665409           2.11      344872       43   \n",
       "\n",
       "     land_area  net_migrants  fertility_rate  median_age  population_urban  \\\n",
       "0       652860        -65846             4.4        17.0              26.0   \n",
       "1        27400         -8000             1.4        38.0              67.0   \n",
       "2      2381740         -9999             2.8        28.0              75.0   \n",
       "3          200          -790             2.2        29.0               NaN   \n",
       "4          470           200             1.1        43.0              85.0   \n",
       "..         ...           ...             ...         ...               ...   \n",
       "229        140          -119             1.9        37.0               0.0   \n",
       "230     266000          5600             2.2        32.0              95.0   \n",
       "231     527970        -29914             3.6        19.0              37.0   \n",
       "232     743390         -5000             4.2        17.0              46.0   \n",
       "233     386850         -9999             3.4        18.0              37.0   \n",
       "\n",
       "     world_share  \n",
       "0           0.53  \n",
       "1           0.04  \n",
       "2           0.57  \n",
       "3           0.00  \n",
       "4           0.00  \n",
       "..           ...  \n",
       "229         0.00  \n",
       "230         0.01  \n",
       "231         0.43  \n",
       "232         0.26  \n",
       "233         0.21  \n",
       "\n",
       "[234 rows x 11 columns]"
      ]
     },
     "execution_count": 8,
     "metadata": {},
     "output_type": "execute_result"
    }
   ],
   "source": [
    "population_ds"
   ]
  },
  {
   "cell_type": "code",
   "execution_count": 9,
   "id": "88fb85d6",
   "metadata": {},
   "outputs": [
    {
     "data": {
      "text/plain": [
       "Index(['country', 'population', 'yearly_change', 'net_change', 'density',\n",
       "       'land_area', 'net_migrants', 'fertility_rate', 'median_age',\n",
       "       'population_urban', 'world_share'],\n",
       "      dtype='object')"
      ]
     },
     "execution_count": 9,
     "metadata": {},
     "output_type": "execute_result"
    }
   ],
   "source": [
    "population_ds.columns"
   ]
  },
  {
   "cell_type": "code",
   "execution_count": 10,
   "id": "e378b840",
   "metadata": {},
   "outputs": [
    {
     "data": {
      "text/html": [
       "<div>\n",
       "<style scoped>\n",
       "    .dataframe tbody tr th:only-of-type {\n",
       "        vertical-align: middle;\n",
       "    }\n",
       "\n",
       "    .dataframe tbody tr th {\n",
       "        vertical-align: top;\n",
       "    }\n",
       "\n",
       "    .dataframe thead th {\n",
       "        text-align: right;\n",
       "    }\n",
       "</style>\n",
       "<table border=\"1\" class=\"dataframe\">\n",
       "  <thead>\n",
       "    <tr style=\"text-align: right;\">\n",
       "      <th></th>\n",
       "      <th>country</th>\n",
       "      <th>population</th>\n",
       "      <th>yearly_change</th>\n",
       "      <th>net_change</th>\n",
       "      <th>density</th>\n",
       "      <th>land_area</th>\n",
       "      <th>net_migrants</th>\n",
       "      <th>fertility_rate</th>\n",
       "      <th>median_age</th>\n",
       "      <th>population_urban</th>\n",
       "      <th>world_share</th>\n",
       "    </tr>\n",
       "  </thead>\n",
       "  <tbody>\n",
       "    <tr>\n",
       "      <th>0</th>\n",
       "      <td>Afghanistan</td>\n",
       "      <td>42239854</td>\n",
       "      <td>2.70</td>\n",
       "      <td>1111083</td>\n",
       "      <td>65</td>\n",
       "      <td>652860</td>\n",
       "      <td>-65846</td>\n",
       "      <td>4.4</td>\n",
       "      <td>17.0</td>\n",
       "      <td>26.0</td>\n",
       "      <td>0.53</td>\n",
       "    </tr>\n",
       "    <tr>\n",
       "      <th>1</th>\n",
       "      <td>Albania</td>\n",
       "      <td>2832439</td>\n",
       "      <td>-0.35</td>\n",
       "      <td>-9882</td>\n",
       "      <td>103</td>\n",
       "      <td>27400</td>\n",
       "      <td>-8000</td>\n",
       "      <td>1.4</td>\n",
       "      <td>38.0</td>\n",
       "      <td>67.0</td>\n",
       "      <td>0.04</td>\n",
       "    </tr>\n",
       "    <tr>\n",
       "      <th>2</th>\n",
       "      <td>Algeria</td>\n",
       "      <td>45606480</td>\n",
       "      <td>1.57</td>\n",
       "      <td>703255</td>\n",
       "      <td>19</td>\n",
       "      <td>2381740</td>\n",
       "      <td>-9999</td>\n",
       "      <td>2.8</td>\n",
       "      <td>28.0</td>\n",
       "      <td>75.0</td>\n",
       "      <td>0.57</td>\n",
       "    </tr>\n",
       "    <tr>\n",
       "      <th>3</th>\n",
       "      <td>American Samoa</td>\n",
       "      <td>43914</td>\n",
       "      <td>-0.81</td>\n",
       "      <td>-359</td>\n",
       "      <td>220</td>\n",
       "      <td>200</td>\n",
       "      <td>-790</td>\n",
       "      <td>2.2</td>\n",
       "      <td>29.0</td>\n",
       "      <td>NaN</td>\n",
       "      <td>0.00</td>\n",
       "    </tr>\n",
       "    <tr>\n",
       "      <th>4</th>\n",
       "      <td>Andorra</td>\n",
       "      <td>80088</td>\n",
       "      <td>0.33</td>\n",
       "      <td>264</td>\n",
       "      <td>170</td>\n",
       "      <td>470</td>\n",
       "      <td>200</td>\n",
       "      <td>1.1</td>\n",
       "      <td>43.0</td>\n",
       "      <td>85.0</td>\n",
       "      <td>0.00</td>\n",
       "    </tr>\n",
       "  </tbody>\n",
       "</table>\n",
       "</div>"
      ],
      "text/plain": [
       "          country  population  yearly_change  net_change  density  land_area  \\\n",
       "0     Afghanistan    42239854           2.70     1111083       65     652860   \n",
       "1         Albania     2832439          -0.35       -9882      103      27400   \n",
       "2         Algeria    45606480           1.57      703255       19    2381740   \n",
       "3  American Samoa       43914          -0.81        -359      220        200   \n",
       "4         Andorra       80088           0.33         264      170        470   \n",
       "\n",
       "   net_migrants  fertility_rate  median_age  population_urban  world_share  \n",
       "0        -65846             4.4        17.0              26.0         0.53  \n",
       "1         -8000             1.4        38.0              67.0         0.04  \n",
       "2         -9999             2.8        28.0              75.0         0.57  \n",
       "3          -790             2.2        29.0               NaN         0.00  \n",
       "4           200             1.1        43.0              85.0         0.00  "
      ]
     },
     "execution_count": 10,
     "metadata": {},
     "output_type": "execute_result"
    }
   ],
   "source": [
    "population_ds.head()"
   ]
  },
  {
   "cell_type": "code",
   "execution_count": 11,
   "id": "fa0107ab",
   "metadata": {},
   "outputs": [
    {
     "data": {
      "text/plain": [
       "<BarContainer object of 1 artists>"
      ]
     },
     "execution_count": 11,
     "metadata": {},
     "output_type": "execute_result"
    },
    {
     "data": {
      "image/png": "[encoded data removed]",
      "text/plain": [
       "<Figure size 640x480 with 1 Axes>"
      ]
     },
     "metadata": {},
     "output_type": "display_data"
    }
   ],
   "source": [
    "plt.bar('country','population',data=file_name)"
   ]
  },
  {
   "cell_type": "code",
   "execution_count": 13,
   "id": "0a0d6d2d",
   "metadata": {},
   "outputs": [
    {
     "data": {
      "text/plain": [
       "array([  42239854,    2832439,   45606480,      43914,      80088,\n",
       "         36684202,      15899,      94298,   45773884,    2777970,\n",
       "           106277,   26439111,    8958960,   10412651,     412623,\n",
       "          1485509,  172954319,     281995,    9498238,   11686140,\n",
       "           410825,   13712828,      64069,     787424,   12388571,\n",
       "          3210847,    2675352,  216422446,      31538,     452524,\n",
       "          6687717,   23251485,   13238559,   16944826,   28647293,\n",
       "         38781291,     598682,      27148,      69310,    5742315,\n",
       "         18278568,   19629590, 1425671352,   52085168,     852075,\n",
       "          6106869,      17044,    5212173,   28873034,    4008617,\n",
       "         11194449,     192077,    1260138,   10495295,    5910913,\n",
       "          1136455,      73040,   11332972,  102262808,   18190484,\n",
       "        112716598,    6364943,    1714671,    3748901,    1322765,\n",
       "          1210822,  126527060,      53270,       3791,     936375,\n",
       "          5545475,   64756584,     312155,     308872,    2436566,\n",
       "          2773168,    3728282,   83294633,   34121985,      32688,\n",
       "         10341277,      56643,     126183,     395839,     172952,\n",
       "         18092026,   14190612,    2150842,     813834,   11724763,\n",
       "              518,   10593798,    7491609,   10156239,     375318,\n",
       "       1428627663,  277534122,   89172767,   45504560,    5056935,\n",
       "            84710,    9174520,   58870762,    2825544,  123294513,\n",
       "         11337052,   19606633,   55100586,     133515,    4310108,\n",
       "          6735347,    7633779,    1830211,    5353930,    2330318,\n",
       "          5418377,    6888388,      39584,    2718352,     654768,\n",
       "           704149,   30325732,   20931751,   34308525,     521021,\n",
       "         23293698,     535064,      41996,     366981,    4862989,\n",
       "          1300557,     335995,  128455567,     544321,    3435931,\n",
       "            36297,    3447157,     626485,       4386,   37840044,\n",
       "         33897354,   54577997,    2604172,      12780,   30896590,\n",
       "         17618299,     292991,    5228100,    7046310,   27202843,\n",
       "        223804632,       1935,   26160821,    2085679,      49796,\n",
       "          5474360,    4644384,  240485658,      18058,    4468087,\n",
       "         10329931,    6861524,   34352719,  117337368,   41026067,\n",
       "         10247605,    3260314,    2716391,     981796,   19892812,\n",
       "        144444359,   14094683,      10994,       5314,      47755,\n",
       "           180251,      32077,       5840,     225681,      33642,\n",
       "           231856,   36947025,   17763163,    7149077,     107660,\n",
       "          8791092,    6014723,      44222,    5795199,    2119675,\n",
       "           740424,   18143378,   60414495,   51784059,   11088796,\n",
       "         47519628,   21893579,     103698,    5371230,   48109006,\n",
       "           623236,   10612086,    8796669,   23227014,   23923276,\n",
       "         10143543,   67438106,   71801279,    1360596,    9053799,\n",
       "             1893,     107773,    1534937,   12458223,   85816199,\n",
       "          6516100,      46062,      11396,      98750,   48582334,\n",
       "         36744634,    9516871,   67736802,  339996563,    3423108,\n",
       "         35163944,     334506,   28838499,   98858950,      11502,\n",
       "           587259,   34449825,   20569737,   16665409], dtype=int64)"
      ]
     },
     "execution_count": 13,
     "metadata": {},
     "output_type": "execute_result"
    }
   ],
   "source": [
    "population_ds['population'].unique()"
   ]
  },
  {
   "cell_type": "code",
   "execution_count": 14,
   "id": "2ecd02c5",
   "metadata": {},
   "outputs": [
    {
     "data": {
      "text/plain": [
       "234"
      ]
     },
     "execution_count": 14,
     "metadata": {},
     "output_type": "execute_result"
    }
   ],
   "source": [
    "population_ds['population'].nunique()"
   ]
  },
  {
   "cell_type": "code",
   "execution_count": 19,
   "id": "b1d2ce08",
   "metadata": {},
   "outputs": [
    {
     "data": {
      "text/html": [
       "<div>\n",
       "<style scoped>\n",
       "    .dataframe tbody tr th:only-of-type {\n",
       "        vertical-align: middle;\n",
       "    }\n",
       "\n",
       "    .dataframe tbody tr th {\n",
       "        vertical-align: top;\n",
       "    }\n",
       "\n",
       "    .dataframe thead th {\n",
       "        text-align: right;\n",
       "    }\n",
       "</style>\n",
       "<table border=\"1\" class=\"dataframe\">\n",
       "  <thead>\n",
       "    <tr style=\"text-align: right;\">\n",
       "      <th></th>\n",
       "      <th>mean</th>\n",
       "      <th>median</th>\n",
       "      <th>std</th>\n",
       "      <th>max</th>\n",
       "      <th>count</th>\n",
       "    </tr>\n",
       "  </thead>\n",
       "  <tbody>\n",
       "    <tr>\n",
       "      <th>population</th>\n",
       "      <td>34375647.88</td>\n",
       "      <td>5643895.0</td>\n",
       "      <td>1.373861e+08</td>\n",
       "      <td>1428627663</td>\n",
       "      <td>234</td>\n",
       "    </tr>\n",
       "  </tbody>\n",
       "</table>\n",
       "</div>"
      ],
      "text/plain": [
       "                   mean     median           std         max  count\n",
       "population  34375647.88  5643895.0  1.373861e+08  1428627663    234"
      ]
     },
     "execution_count": 19,
     "metadata": {},
     "output_type": "execute_result"
    }
   ],
   "source": [
    "p_mean=round(population_ds['population'].mean(),2)\n",
    "p_median=round(population_ds['population'].median(),2)\n",
    "p_std=round(population_ds['population'].std(),2)\n",
    "p_max=round(population_ds['population'].max(),2)\n",
    "p_count=round(population_ds['population'].count(),2)\n",
    "\n",
    "dict1={'mean':p_mean,\n",
    "       'median':p_median,\n",
    "        'std':p_std,\n",
    "         'max':p_max,\n",
    "          'count':p_count}\n",
    "\n",
    "dict1\n",
    "pd.DataFrame(dict1,index=['population'])\n"
   ]
  },
  {
   "cell_type": "code",
   "execution_count": 21,
   "id": "6739a4ef",
   "metadata": {},
   "outputs": [
    {
     "data": {
      "text/html": [
       "<div>\n",
       "<style scoped>\n",
       "    .dataframe tbody tr th:only-of-type {\n",
       "        vertical-align: middle;\n",
       "    }\n",
       "\n",
       "    .dataframe tbody tr th {\n",
       "        vertical-align: top;\n",
       "    }\n",
       "\n",
       "    .dataframe thead th {\n",
       "        text-align: right;\n",
       "    }\n",
       "</style>\n",
       "<table border=\"1\" class=\"dataframe\">\n",
       "  <thead>\n",
       "    <tr style=\"text-align: right;\">\n",
       "      <th></th>\n",
       "      <th>population</th>\n",
       "    </tr>\n",
       "  </thead>\n",
       "  <tbody>\n",
       "    <tr>\n",
       "      <th>mean</th>\n",
       "      <td>3.437565e+07</td>\n",
       "    </tr>\n",
       "    <tr>\n",
       "      <th>median</th>\n",
       "      <td>5.643895e+06</td>\n",
       "    </tr>\n",
       "    <tr>\n",
       "      <th>std</th>\n",
       "      <td>1.373861e+08</td>\n",
       "    </tr>\n",
       "    <tr>\n",
       "      <th>max</th>\n",
       "      <td>1.428628e+09</td>\n",
       "    </tr>\n",
       "    <tr>\n",
       "      <th>count</th>\n",
       "      <td>2.340000e+02</td>\n",
       "    </tr>\n",
       "  </tbody>\n",
       "</table>\n",
       "</div>"
      ],
      "text/plain": [
       "          population\n",
       "mean    3.437565e+07\n",
       "median  5.643895e+06\n",
       "std     1.373861e+08\n",
       "max     1.428628e+09\n",
       "count   2.340000e+02"
      ]
     },
     "execution_count": 21,
     "metadata": {},
     "output_type": "execute_result"
    }
   ],
   "source": [
    "list1=[p_mean,p_median,p_std,p_max,p_count]\n",
    "pd.DataFrame(list1,columns=['population'],index=['mean','median','std','max','count'])"
   ]
  },
  {
   "cell_type": "markdown",
   "id": "c6c803bd",
   "metadata": {},
   "source": [
    "# `percentile"
   ]
  },
  {
   "cell_type": "code",
   "execution_count": 33,
   "id": "cbf9f394",
   "metadata": {},
   "outputs": [],
   "source": [
    "data=population_ds['population']\n",
    "per_25=round(np.percentile(data,25),2)"
   ]
  },
  {
   "cell_type": "code",
   "execution_count": 34,
   "id": "b6b04500",
   "metadata": {},
   "outputs": [],
   "source": [
    " per_50=round(np.percentile(data,50),2)"
   ]
  },
  {
   "cell_type": "code",
   "execution_count": 35,
   "id": "b825ede8",
   "metadata": {},
   "outputs": [],
   "source": [
    "per_75=round(np.percentile(data,75),2)"
   ]
  },
  {
   "cell_type": "code",
   "execution_count": 27,
   "id": "4c92beb3",
   "metadata": {},
   "outputs": [
    {
     "data": {
      "text/html": [
       "<div>\n",
       "<style scoped>\n",
       "    .dataframe tbody tr th:only-of-type {\n",
       "        vertical-align: middle;\n",
       "    }\n",
       "\n",
       "    .dataframe tbody tr th {\n",
       "        vertical-align: top;\n",
       "    }\n",
       "\n",
       "    .dataframe thead th {\n",
       "        text-align: right;\n",
       "    }\n",
       "</style>\n",
       "<table border=\"1\" class=\"dataframe\">\n",
       "  <thead>\n",
       "    <tr style=\"text-align: right;\">\n",
       "      <th></th>\n",
       "      <th>population</th>\n",
       "      <th>yearly_change</th>\n",
       "      <th>net_change</th>\n",
       "      <th>density</th>\n",
       "      <th>land_area</th>\n",
       "      <th>net_migrants</th>\n",
       "      <th>fertility_rate</th>\n",
       "      <th>median_age</th>\n",
       "      <th>population_urban</th>\n",
       "      <th>world_share</th>\n",
       "    </tr>\n",
       "  </thead>\n",
       "  <tbody>\n",
       "    <tr>\n",
       "      <th>count</th>\n",
       "      <td>2.340000e+02</td>\n",
       "      <td>234.000000</td>\n",
       "      <td>2.340000e+02</td>\n",
       "      <td>234.000000</td>\n",
       "      <td>2.340000e+02</td>\n",
       "      <td>2.340000e+02</td>\n",
       "      <td>233.000000</td>\n",
       "      <td>233.000000</td>\n",
       "      <td>216.000000</td>\n",
       "      <td>234.000000</td>\n",
       "    </tr>\n",
       "    <tr>\n",
       "      <th>mean</th>\n",
       "      <td>3.437565e+07</td>\n",
       "      <td>0.965470</td>\n",
       "      <td>3.000230e+05</td>\n",
       "      <td>477.414530</td>\n",
       "      <td>5.559568e+05</td>\n",
       "      <td>1.301282e+01</td>\n",
       "      <td>2.414163</td>\n",
       "      <td>31.309013</td>\n",
       "      <td>59.550926</td>\n",
       "      <td>0.427393</td>\n",
       "    </tr>\n",
       "    <tr>\n",
       "      <th>std</th>\n",
       "      <td>1.373861e+08</td>\n",
       "      <td>1.242413</td>\n",
       "      <td>1.001815e+06</td>\n",
       "      <td>2320.693692</td>\n",
       "      <td>1.691024e+06</td>\n",
       "      <td>1.698334e+05</td>\n",
       "      <td>1.155913</td>\n",
       "      <td>9.628386</td>\n",
       "      <td>23.826450</td>\n",
       "      <td>1.707829</td>\n",
       "    </tr>\n",
       "    <tr>\n",
       "      <th>min</th>\n",
       "      <td>5.180000e+02</td>\n",
       "      <td>-7.450000</td>\n",
       "      <td>-2.957105e+06</td>\n",
       "      <td>0.000000</td>\n",
       "      <td>0.000000e+00</td>\n",
       "      <td>-9.104750e+05</td>\n",
       "      <td>0.800000</td>\n",
       "      <td>15.000000</td>\n",
       "      <td>0.000000</td>\n",
       "      <td>0.000000</td>\n",
       "    </tr>\n",
       "    <tr>\n",
       "      <th>25%</th>\n",
       "      <td>4.696482e+05</td>\n",
       "      <td>0.222500</td>\n",
       "      <td>2.360000e+02</td>\n",
       "      <td>38.250000</td>\n",
       "      <td>2.650000e+03</td>\n",
       "      <td>-9.776750e+03</td>\n",
       "      <td>1.600000</td>\n",
       "      <td>22.000000</td>\n",
       "      <td>40.750000</td>\n",
       "      <td>0.010000</td>\n",
       "    </tr>\n",
       "    <tr>\n",
       "      <th>50%</th>\n",
       "      <td>5.643895e+06</td>\n",
       "      <td>0.805000</td>\n",
       "      <td>2.860150e+04</td>\n",
       "      <td>96.500000</td>\n",
       "      <td>7.972000e+04</td>\n",
       "      <td>-5.000000e+02</td>\n",
       "      <td>2.000000</td>\n",
       "      <td>32.000000</td>\n",
       "      <td>61.500000</td>\n",
       "      <td>0.070000</td>\n",
       "    </tr>\n",
       "    <tr>\n",
       "      <th>75%</th>\n",
       "      <td>2.324537e+07</td>\n",
       "      <td>1.685000</td>\n",
       "      <td>2.236855e+05</td>\n",
       "      <td>242.000000</td>\n",
       "      <td>4.070800e+05</td>\n",
       "      <td>4.750000e+02</td>\n",
       "      <td>3.000000</td>\n",
       "      <td>40.000000</td>\n",
       "      <td>79.250000</td>\n",
       "      <td>0.290000</td>\n",
       "    </tr>\n",
       "    <tr>\n",
       "      <th>max</th>\n",
       "      <td>1.428628e+09</td>\n",
       "      <td>4.980000</td>\n",
       "      <td>1.145449e+07</td>\n",
       "      <td>24360.000000</td>\n",
       "      <td>1.637687e+07</td>\n",
       "      <td>1.784718e+06</td>\n",
       "      <td>6.700000</td>\n",
       "      <td>54.000000</td>\n",
       "      <td>99.000000</td>\n",
       "      <td>17.760000</td>\n",
       "    </tr>\n",
       "  </tbody>\n",
       "</table>\n",
       "</div>"
      ],
      "text/plain": [
       "         population  yearly_change    net_change       density     land_area  \\\n",
       "count  2.340000e+02     234.000000  2.340000e+02    234.000000  2.340000e+02   \n",
       "mean   3.437565e+07       0.965470  3.000230e+05    477.414530  5.559568e+05   \n",
       "std    1.373861e+08       1.242413  1.001815e+06   2320.693692  1.691024e+06   \n",
       "min    5.180000e+02      -7.450000 -2.957105e+06      0.000000  0.000000e+00   \n",
       "25%    4.696482e+05       0.222500  2.360000e+02     38.250000  2.650000e+03   \n",
       "50%    5.643895e+06       0.805000  2.860150e+04     96.500000  7.972000e+04   \n",
       "75%    2.324537e+07       1.685000  2.236855e+05    242.000000  4.070800e+05   \n",
       "max    1.428628e+09       4.980000  1.145449e+07  24360.000000  1.637687e+07   \n",
       "\n",
       "       net_migrants  fertility_rate  median_age  population_urban  world_share  \n",
       "count  2.340000e+02      233.000000  233.000000        216.000000   234.000000  \n",
       "mean   1.301282e+01        2.414163   31.309013         59.550926     0.427393  \n",
       "std    1.698334e+05        1.155913    9.628386         23.826450     1.707829  \n",
       "min   -9.104750e+05        0.800000   15.000000          0.000000     0.000000  \n",
       "25%   -9.776750e+03        1.600000   22.000000         40.750000     0.010000  \n",
       "50%   -5.000000e+02        2.000000   32.000000         61.500000     0.070000  \n",
       "75%    4.750000e+02        3.000000   40.000000         79.250000     0.290000  \n",
       "max    1.784718e+06        6.700000   54.000000         99.000000    17.760000  "
      ]
     },
     "execution_count": 27,
     "metadata": {},
     "output_type": "execute_result"
    }
   ],
   "source": [
    "population_ds.describe()"
   ]
  },
  {
   "cell_type": "markdown",
   "id": "789425ab",
   "metadata": {},
   "source": [
    "# qunatile"
   ]
  },
  {
   "cell_type": "code",
   "execution_count": 28,
   "id": "d24ab637",
   "metadata": {},
   "outputs": [
    {
     "data": {
      "text/plain": [
       "469648.25"
      ]
     },
     "execution_count": 28,
     "metadata": {},
     "output_type": "execute_result"
    }
   ],
   "source": [
    "np.quantile(data,0.25)"
   ]
  },
  {
   "cell_type": "code",
   "execution_count": 29,
   "id": "de3a0e6e",
   "metadata": {},
   "outputs": [
    {
     "data": {
      "text/plain": [
       "5643895.0"
      ]
     },
     "execution_count": 29,
     "metadata": {},
     "output_type": "execute_result"
    }
   ],
   "source": [
    "np.quantile(data,0.50)"
   ]
  },
  {
   "cell_type": "code",
   "execution_count": 30,
   "id": "375a8ea8",
   "metadata": {},
   "outputs": [
    {
     "data": {
      "text/plain": [
       "23245367.25"
      ]
     },
     "execution_count": 30,
     "metadata": {},
     "output_type": "execute_result"
    }
   ],
   "source": [
    "np.quantile(data,0.75)"
   ]
  },
  {
   "cell_type": "code",
   "execution_count": 37,
   "id": "7babd1be",
   "metadata": {},
   "outputs": [
    {
     "data": {
      "text/html": [
       "<div>\n",
       "<style scoped>\n",
       "    .dataframe tbody tr th:only-of-type {\n",
       "        vertical-align: middle;\n",
       "    }\n",
       "\n",
       "    .dataframe tbody tr th {\n",
       "        vertical-align: top;\n",
       "    }\n",
       "\n",
       "    .dataframe thead th {\n",
       "        text-align: right;\n",
       "    }\n",
       "</style>\n",
       "<table border=\"1\" class=\"dataframe\">\n",
       "  <thead>\n",
       "    <tr style=\"text-align: right;\">\n",
       "      <th></th>\n",
       "      <th>p_mean</th>\n",
       "      <th>p_median</th>\n",
       "      <th>p_std</th>\n",
       "      <th>p_max</th>\n",
       "      <th>p_count</th>\n",
       "      <th>per_25</th>\n",
       "      <th>per_50</th>\n",
       "      <th>per_75</th>\n",
       "    </tr>\n",
       "  </thead>\n",
       "  <tbody>\n",
       "    <tr>\n",
       "      <th>population</th>\n",
       "      <td>34375647.88</td>\n",
       "      <td>5643895.0</td>\n",
       "      <td>1.373861e+08</td>\n",
       "      <td>1428627663</td>\n",
       "      <td>234</td>\n",
       "      <td>469648.25</td>\n",
       "      <td>5643895.0</td>\n",
       "      <td>23245367.25</td>\n",
       "    </tr>\n",
       "  </tbody>\n",
       "</table>\n",
       "</div>"
      ],
      "text/plain": [
       "                 p_mean   p_median         p_std       p_max  p_count  \\\n",
       "population  34375647.88  5643895.0  1.373861e+08  1428627663      234   \n",
       "\n",
       "               per_25     per_50       per_75  \n",
       "population  469648.25  5643895.0  23245367.25  "
      ]
     },
     "execution_count": 37,
     "metadata": {},
     "output_type": "execute_result"
    }
   ],
   "source": [
    "dict2={}\n",
    "dict2['p_mean']=round(population_ds['population'].mean(),2)\n",
    "dict2['p_median']=round(population_ds['population'].median(),2)\n",
    "dict2['p_std']=round(population_ds['population'].std(),2)\n",
    "dict2['p_max']=round(population_ds['population'].max(),2)\n",
    "dict2['p_count']=round(population_ds['population'].count(),2)\n",
    "dict2['per_25']=round(np.percentile(data,25),2)\n",
    "dict2['per_50']=round(np.percentile(data,50),2)\n",
    "dict2['per_75']=round(np.percentile(data,75),2)\n",
    "\n",
    "dict2\n",
    "pd.DataFrame(dict2,index=['population'])\n"
   ]
  },
  {
   "cell_type": "code",
   "execution_count": 38,
   "id": "1e0c9917",
   "metadata": {},
   "outputs": [
    {
     "data": {
      "text/html": [
       "<div>\n",
       "<style scoped>\n",
       "    .dataframe tbody tr th:only-of-type {\n",
       "        vertical-align: middle;\n",
       "    }\n",
       "\n",
       "    .dataframe tbody tr th {\n",
       "        vertical-align: top;\n",
       "    }\n",
       "\n",
       "    .dataframe thead th {\n",
       "        text-align: right;\n",
       "    }\n",
       "</style>\n",
       "<table border=\"1\" class=\"dataframe\">\n",
       "  <thead>\n",
       "    <tr style=\"text-align: right;\">\n",
       "      <th></th>\n",
       "      <th>population</th>\n",
       "    </tr>\n",
       "  </thead>\n",
       "  <tbody>\n",
       "    <tr>\n",
       "      <th>p_mean</th>\n",
       "      <td>3.437565e+07</td>\n",
       "    </tr>\n",
       "    <tr>\n",
       "      <th>p_median</th>\n",
       "      <td>5.643895e+06</td>\n",
       "    </tr>\n",
       "    <tr>\n",
       "      <th>p_std</th>\n",
       "      <td>1.373861e+08</td>\n",
       "    </tr>\n",
       "    <tr>\n",
       "      <th>p_max</th>\n",
       "      <td>1.428628e+09</td>\n",
       "    </tr>\n",
       "    <tr>\n",
       "      <th>p_count</th>\n",
       "      <td>2.340000e+02</td>\n",
       "    </tr>\n",
       "    <tr>\n",
       "      <th>per_25</th>\n",
       "      <td>4.696482e+05</td>\n",
       "    </tr>\n",
       "    <tr>\n",
       "      <th>per_50</th>\n",
       "      <td>5.643895e+06</td>\n",
       "    </tr>\n",
       "    <tr>\n",
       "      <th>per_75</th>\n",
       "      <td>2.324537e+07</td>\n",
       "    </tr>\n",
       "  </tbody>\n",
       "</table>\n",
       "</div>"
      ],
      "text/plain": [
       "            population\n",
       "p_mean    3.437565e+07\n",
       "p_median  5.643895e+06\n",
       "p_std     1.373861e+08\n",
       "p_max     1.428628e+09\n",
       "p_count   2.340000e+02\n",
       "per_25    4.696482e+05\n",
       "per_50    5.643895e+06\n",
       "per_75    2.324537e+07"
      ]
     },
     "execution_count": 38,
     "metadata": {},
     "output_type": "execute_result"
    }
   ],
   "source": [
    "dict2.keys()\n",
    "dict2.values()\n",
    "pd.DataFrame(dict2.values(),columns=['population'],index=dict2.keys())"
   ]
  },
  {
   "cell_type": "markdown",
   "id": "54c79371",
   "metadata": {},
   "source": [
    "# plots"
   ]
  },
  {
   "cell_type": "code",
   "execution_count": 41,
   "id": "414806ef",
   "metadata": {},
   "outputs": [],
   "source": [
    "#for numerical analysis:histogram,frequency distribution\n",
    "#for bivariant analysis:scatter plots"
   ]
  },
  {
   "cell_type": "markdown",
   "id": "7dcbc3f3",
   "metadata": {},
   "source": [
    "## histogram"
   ]
  },
  {
   "cell_type": "code",
   "execution_count": 45,
   "id": "b6c837c6",
   "metadata": {},
   "outputs": [
    {
     "data": {
      "text/plain": [
       "(array([181.,  28.,   7.,   5.,   4.,   1.,   1.,   2.,   1.,   1.,   0.,\n",
       "          1.,   0.,   0.,   0.,   0.,   0.,   0.,   0.,   0.,   0.,   0.,\n",
       "          0.,   0.,   0.,   0.,   0.,   0.,   0.,   0.,   0.,   0.,   0.,\n",
       "          0.,   0.,   0.,   0.,   0.,   0.,   0.,   0.,   0.,   0.,   0.,\n",
       "          0.,   0.,   0.,   0.,   0.,   2.]),\n",
       " array([5.18000000e+02, 2.85730609e+07, 5.71456038e+07, 8.57181467e+07,\n",
       "        1.14290690e+08, 1.42863232e+08, 1.71435775e+08, 2.00008318e+08,\n",
       "        2.28580861e+08, 2.57153404e+08, 2.85725947e+08, 3.14298490e+08,\n",
       "        3.42871033e+08, 3.71443576e+08, 4.00016119e+08, 4.28588662e+08,\n",
       "        4.57161204e+08, 4.85733747e+08, 5.14306290e+08, 5.42878833e+08,\n",
       "        5.71451376e+08, 6.00023919e+08, 6.28596462e+08, 6.57169005e+08,\n",
       "        6.85741548e+08, 7.14314090e+08, 7.42886633e+08, 7.71459176e+08,\n",
       "        8.00031719e+08, 8.28604262e+08, 8.57176805e+08, 8.85749348e+08,\n",
       "        9.14321891e+08, 9.42894434e+08, 9.71466977e+08, 1.00003952e+09,\n",
       "        1.02861206e+09, 1.05718461e+09, 1.08575715e+09, 1.11432969e+09,\n",
       "        1.14290223e+09, 1.17147478e+09, 1.20004732e+09, 1.22861986e+09,\n",
       "        1.25719241e+09, 1.28576495e+09, 1.31433749e+09, 1.34291003e+09,\n",
       "        1.37148258e+09, 1.40005512e+09, 1.42862766e+09]),\n",
       " <BarContainer object of 50 artists>)"
      ]
     },
     "execution_count": 45,
     "metadata": {},
     "output_type": "execute_result"
    },
    {
     "data": {
      "image/png": "[encoded data removed]",
      "text/plain": [
       "<Figure size 640x480 with 1 Axes>"
      ]
     },
     "metadata": {},
     "output_type": "display_data"
    }
   ],
   "source": [
    "data=population_ds['population']\n",
    "plt.hist(data,bins=50)"
   ]
  },
  {
   "cell_type": "code",
   "execution_count": 46,
   "id": "6d185372",
   "metadata": {
    "scrolled": true
   },
   "outputs": [
    {
     "data": {
      "image/png": "[encoded data removed]",
      "text/plain": [
       "<Figure size 640x480 with 1 Axes>"
      ]
     },
     "metadata": {},
     "output_type": "display_data"
    }
   ],
   "source": [
    "frequency,interval,n=plt.hist(data,bins=30)"
   ]
  },
  {
   "cell_type": "code",
   "execution_count": 48,
   "id": "e3c3e6e9",
   "metadata": {},
   "outputs": [
    {
     "data": {
      "text/plain": [
       "array([203.,  15.,   7.,   2.,   2.,   2.,   0.,   1.,   0.,   0.,   0.,\n",
       "         0.,   0.,   0.,   0.,   0.,   0.,   0.,   0.,   0.,   0.,   0.,\n",
       "         0.,   0.,   0.,   0.,   0.,   0.,   0.,   2.])"
      ]
     },
     "execution_count": 48,
     "metadata": {},
     "output_type": "execute_result"
    }
   ],
   "source": [
    "frequency"
   ]
  },
  {
   "cell_type": "code",
   "execution_count": 49,
   "id": "0cd985e1",
   "metadata": {},
   "outputs": [
    {
     "data": {
      "text/plain": [
       "array([5.18000000e+02, 4.76214228e+07, 9.52423277e+07, 1.42863232e+08,\n",
       "       1.90484137e+08, 2.38105042e+08, 2.85725947e+08, 3.33346852e+08,\n",
       "       3.80967757e+08, 4.28588662e+08, 4.76209566e+08, 5.23830471e+08,\n",
       "       5.71451376e+08, 6.19072281e+08, 6.66693186e+08, 7.14314090e+08,\n",
       "       7.61934995e+08, 8.09555900e+08, 8.57176805e+08, 9.04797710e+08,\n",
       "       9.52418615e+08, 1.00003952e+09, 1.04766042e+09, 1.09528133e+09,\n",
       "       1.14290223e+09, 1.19052314e+09, 1.23814404e+09, 1.28576495e+09,\n",
       "       1.33338585e+09, 1.38100676e+09, 1.42862766e+09])"
      ]
     },
     "execution_count": 49,
     "metadata": {},
     "output_type": "execute_result"
    }
   ],
   "source": [
    "interval"
   ]
  },
  {
   "cell_type": "code",
   "execution_count": 50,
   "id": "1ebacbe4",
   "metadata": {},
   "outputs": [
    {
     "data": {
      "text/plain": [
       "<BarContainer object of 30 artists>"
      ]
     },
     "execution_count": 50,
     "metadata": {},
     "output_type": "execute_result"
    }
   ],
   "source": [
    "n"
   ]
  },
  {
   "cell_type": "code",
   "execution_count": 52,
   "id": "ca973b64",
   "metadata": {},
   "outputs": [
    {
     "data": {
      "text/plain": [
       "(array([2.70715937e-08, 4.18787085e-09, 1.04696771e-09, 7.47834081e-10,\n",
       "        5.98267265e-10, 1.49566816e-10, 1.49566816e-10, 2.99133632e-10,\n",
       "        1.49566816e-10, 1.49566816e-10, 0.00000000e+00, 1.49566816e-10,\n",
       "        0.00000000e+00, 0.00000000e+00, 0.00000000e+00, 0.00000000e+00,\n",
       "        0.00000000e+00, 0.00000000e+00, 0.00000000e+00, 0.00000000e+00,\n",
       "        0.00000000e+00, 0.00000000e+00, 0.00000000e+00, 0.00000000e+00,\n",
       "        0.00000000e+00, 0.00000000e+00, 0.00000000e+00, 0.00000000e+00,\n",
       "        0.00000000e+00, 0.00000000e+00, 0.00000000e+00, 0.00000000e+00,\n",
       "        0.00000000e+00, 0.00000000e+00, 0.00000000e+00, 0.00000000e+00,\n",
       "        0.00000000e+00, 0.00000000e+00, 0.00000000e+00, 0.00000000e+00,\n",
       "        0.00000000e+00, 0.00000000e+00, 0.00000000e+00, 0.00000000e+00,\n",
       "        0.00000000e+00, 0.00000000e+00, 0.00000000e+00, 0.00000000e+00,\n",
       "        0.00000000e+00, 2.99133632e-10]),\n",
       " array([5.18000000e+02, 2.85730609e+07, 5.71456038e+07, 8.57181467e+07,\n",
       "        1.14290690e+08, 1.42863232e+08, 1.71435775e+08, 2.00008318e+08,\n",
       "        2.28580861e+08, 2.57153404e+08, 2.85725947e+08, 3.14298490e+08,\n",
       "        3.42871033e+08, 3.71443576e+08, 4.00016119e+08, 4.28588662e+08,\n",
       "        4.57161204e+08, 4.85733747e+08, 5.14306290e+08, 5.42878833e+08,\n",
       "        5.71451376e+08, 6.00023919e+08, 6.28596462e+08, 6.57169005e+08,\n",
       "        6.85741548e+08, 7.14314090e+08, 7.42886633e+08, 7.71459176e+08,\n",
       "        8.00031719e+08, 8.28604262e+08, 8.57176805e+08, 8.85749348e+08,\n",
       "        9.14321891e+08, 9.42894434e+08, 9.71466977e+08, 1.00003952e+09,\n",
       "        1.02861206e+09, 1.05718461e+09, 1.08575715e+09, 1.11432969e+09,\n",
       "        1.14290223e+09, 1.17147478e+09, 1.20004732e+09, 1.22861986e+09,\n",
       "        1.25719241e+09, 1.28576495e+09, 1.31433749e+09, 1.34291003e+09,\n",
       "        1.37148258e+09, 1.40005512e+09, 1.42862766e+09]),\n",
       " <BarContainer object of 50 artists>)"
      ]
     },
     "execution_count": 52,
     "metadata": {},
     "output_type": "execute_result"
    },
    {
     "data": {
      "image/png": "[encoded data removed]",
      "text/plain": [
       "<Figure size 640x480 with 1 Axes>"
      ]
     },
     "metadata": {},
     "output_type": "display_data"
    }
   ],
   "source": [
    "data=population_ds['population']\n",
    "plt.hist(data,bins=50,density=True,color='red')"
   ]
  },
  {
   "cell_type": "code",
   "execution_count": 53,
   "id": "2d75a50d",
   "metadata": {},
   "outputs": [],
   "source": [
    "plt.show()"
   ]
  },
  {
   "cell_type": "code",
   "execution_count": 54,
   "id": "dc1b352b",
   "metadata": {},
   "outputs": [
    {
     "ename": "TypeError",
     "evalue": "hist2d() missing 2 required positional arguments: 'x' and 'y'",
     "output_type": "error",
     "traceback": [
      "\u001b[1;31m---------------------------------------------------------------------------\u001b[0m",
      "\u001b[1;31mTypeError\u001b[0m                                 Traceback (most recent call last)",
      "Cell \u001b[1;32mIn[54], line 1\u001b[0m\n\u001b[1;32m----> 1\u001b[0m \u001b[43mplt\u001b[49m\u001b[38;5;241;43m.\u001b[39;49m\u001b[43mhist2d\u001b[49m\u001b[43m(\u001b[49m\u001b[43m)\u001b[49m\n",
      "\u001b[1;31mTypeError\u001b[0m: hist2d() missing 2 required positional arguments: 'x' and 'y'"
     ]
    }
   ],
   "source": [
    "plt.hist2d()"
   ]
  },
  {
   "cell_type": "code",
   "execution_count": 55,
   "id": "5988bfaf",
   "metadata": {},
   "outputs": [
    {
     "data": {
      "text/plain": [
       "<Axes: xlabel='population', ylabel='Count'>"
      ]
     },
     "execution_count": 55,
     "metadata": {},
     "output_type": "execute_result"
    },
    {
     "data": {
      "image/png": "[encoded data removed]",
      "text/plain": [
       "<Figure size 640x480 with 1 Axes>"
      ]
     },
     "metadata": {},
     "output_type": "display_data"
    }
   ],
   "source": [
    "sns.histplot(data)"
   ]
  },
  {
   "cell_type": "code",
   "execution_count": 56,
   "id": "f4999cc5",
   "metadata": {},
   "outputs": [
    {
     "data": {
      "text/plain": [
       "{'whiskers': [<matplotlib.lines.Line2D at 0x1bffad9e4a0>,\n",
       "  <matplotlib.lines.Line2D at 0x1bffad9e740>],\n",
       " 'caps': [<matplotlib.lines.Line2D at 0x1bffad9e9e0>,\n",
       "  <matplotlib.lines.Line2D at 0x1bffad9ec80>],\n",
       " 'boxes': [<matplotlib.lines.Line2D at 0x1bffad9e200>],\n",
       " 'medians': [<matplotlib.lines.Line2D at 0x1bffad9ef20>],\n",
       " 'fliers': [<matplotlib.lines.Line2D at 0x1bffad9f1c0>],\n",
       " 'means': []}"
      ]
     },
     "execution_count": 56,
     "metadata": {},
     "output_type": "execute_result"
    },
    {
     "data": {
      "image/png": "[encoded data removed]",
      "text/plain": [
       "<Figure size 640x480 with 1 Axes>"
      ]
     },
     "metadata": {},
     "output_type": "display_data"
    }
   ],
   "source": [
    "plt.boxplot(data)"
   ]
  },
  {
   "cell_type": "code",
   "execution_count": 57,
   "id": "6e8c6e5c",
   "metadata": {},
   "outputs": [
    {
     "data": {
      "text/plain": [
       "{'whiskers': [<matplotlib.lines.Line2D at 0x1bffae0e7d0>,\n",
       "  <matplotlib.lines.Line2D at 0x1bffae0ea70>],\n",
       " 'caps': [<matplotlib.lines.Line2D at 0x1bffae0ed10>,\n",
       "  <matplotlib.lines.Line2D at 0x1bffae0efb0>],\n",
       " 'boxes': [<matplotlib.lines.Line2D at 0x1bffae0e530>],\n",
       " 'medians': [<matplotlib.lines.Line2D at 0x1bffae0f250>],\n",
       " 'fliers': [<matplotlib.lines.Line2D at 0x1bffae0f4f0>],\n",
       " 'means': []}"
      ]
     },
     "execution_count": 57,
     "metadata": {},
     "output_type": "execute_result"
    },
    {
     "data": {
      "image/png": "[encoded data removed]",
      "text/plain": [
       "<Figure size 640x480 with 1 Axes>"
      ]
     },
     "metadata": {},
     "output_type": "display_data"
    }
   ],
   "source": [
    "plt.boxplot(data,vert=False)"
   ]
  }
 ],
 "metadata": {
  "kernelspec": {
   "display_name": "Python 3 (ipykernel)",
   "language": "python",
   "name": "python3"
  },
  "language_info": {
   "codemirror_mode": {
    "name": "ipython",
    "version": 3
   },
   "file_extension": ".py",
   "mimetype": "text/x-python",
   "name": "python",
   "nbconvert_exporter": "python",
   "pygments_lexer": "ipython3",
   "version": "3.10.9"
  }
 },
 "nbformat": 4,
 "nbformat_minor": 5
}
